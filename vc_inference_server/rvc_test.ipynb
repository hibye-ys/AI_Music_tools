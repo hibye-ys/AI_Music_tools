{
 "cells": [
  {
   "cell_type": "code",
   "execution_count": 2,
   "metadata": {},
   "outputs": [],
   "source": [
    "from main import (\n",
    "    run_infer_script,\n",
    "    run_batch_infer_script,\n",
    "    run_tts_script,\n",
    "    run_preprocess_script,\n",
    "    run_extract_script,\n",
    "    run_train_script,\n",
    "    run_index_script,\n",
    "    run_model_information_script,\n",
    "    run_model_fusion_script,\n",
    "    run_tensorboard_script,\n",
    "    run_download_script,\n",
    ")\n",
    "import os"
   ]
  },
  {
   "cell_type": "code",
   "execution_count": 7,
   "metadata": {},
   "outputs": [],
   "source": [
    "import os"
   ]
  },
  {
   "cell_type": "code",
   "execution_count": 1,
   "metadata": {},
   "outputs": [],
   "source": [
    "dataset_path = '/home/lee/workplace/datas/LJSpeech-1.1/wavs'\n",
    "logs_path = '/home/lee/workplace/separation_server/rvc_training_server/logs'\n",
    "model_name = \"123\" #@param {type:\"string\"}\n",
    "sample_rate = \"48k\" #@param [\"32k\", \"40k\", \"48k\"] {allow-input: false}\n",
    "sampling_rate = '48000'\n",
    "rvc_version = \"v2\" #@param [\"v2\", \"v1\"] {allow-input: false}\n",
    "f0method = \"rmvpe\" #@param [\"pm\", \"dio\", \"crepe\", \"crepe-tiny\", \"harvest\", \"rmvpe\"] {allow-input: false}\n",
    "hop_length = 128 #@param {type:\"slider\", min:1, max:512, step:0}\n",
    "sr = int(sample_rate.rstrip('k'))*1000\n",
    "save_every_epoch = 5 #@param {type:\"slider\", min:1, max:100, step:0}\n",
    "save_only_latest = True #@param{type:\"boolean\"}\n",
    "save_every_weights = True #@param{type:\"boolean\"}\n",
    "total_epoch = 5 #@param {type:\"slider\", min:1, max:10000, step:0}\n",
    "batch_size = 15 #@param {type:\"slider\", min:1, max:25, step:0}\n",
    "gpu = 0 # @param {type:\"number\"}\n",
    "pitch_guidance = True #@param{type:\"boolean\"}\n",
    "pretrained = False #@param{type:\"boolean\"}\n",
    "custom_pretrained = False #@param{type:\"boolean\"}\n",
    "#g_pretrained_path = f'/home/lee/workplace/rvc_server/logs/{model_name}' # @param {type:\"string\"}\n",
    "#d_pretrained_path = f'/home/lee/workplace/rvc_server/logs/{model_name}'\n"
   ]
  },
  {
   "cell_type": "code",
   "execution_count": 3,
   "metadata": {},
   "outputs": [
    {
     "name": "stdout",
     "output_type": "stream",
     "text": [
      "Starting preprocessing...\n",
      "Preprocessing completed!\n"
     ]
    },
    {
     "data": {
      "text/plain": [
       "'Model 123 preprocessed successfully.'"
      ]
     },
     "execution_count": 3,
     "metadata": {},
     "output_type": "execute_result"
    }
   ],
   "source": [
    "run_preprocess_script(logs_path=logs_path, \n",
    "                              model_name=model_name, \n",
    "                              dataset_path=dataset_path, \n",
    "                              sampling_rate=sr)"
   ]
  },
  {
   "cell_type": "code",
   "execution_count": null,
   "metadata": {},
   "outputs": [],
   "source": [
    "run_extract_script(logs_path=logs_path, \n",
    "                           model_name=model_name, \n",
    "                           rvc_version=rvc_version, \n",
    "                           f0method=f0method, \n",
    "                           hop_length=hop_length, \n",
    "                           sampling_rate=sr)"
   ]
  },
  {
   "cell_type": "code",
   "execution_count": null,
   "metadata": {},
   "outputs": [],
   "source": [
    "run_train_script(model_name=model_name,\n",
    "                rvc_version=rvc_version,\n",
    "                save_every_epoch=save_every_epoch,\n",
    "                save_only_latest=save_only_latest,\n",
    "                save_every_weights=save_every_weights,\n",
    "                total_epoch=total_epoch,\n",
    "                sampling_rate=sampling_rate,\n",
    "                batch_size=batch_size,\n",
    "                gpu=gpu,\n",
    "                pitch_guidance=pitch_guidance,\n",
    "                pretrained=pretrained,\n",
    "                custom_pretrained=custom_pretrained,\n",
    "                logs_path=logs_path,\n",
    "                g_pretrained_path=None,\n",
    "                d_pretrained_path=None,\n",
    "                )"
   ]
  },
  {
   "cell_type": "code",
   "execution_count": 8,
   "metadata": {},
   "outputs": [
    {
     "data": {
      "text/plain": [
       "'/home/lee/workplace/AI_Music_Tools/vc_inference_server/rvc/infer'"
      ]
     },
     "execution_count": 8,
     "metadata": {},
     "output_type": "execute_result"
    }
   ],
   "source": [
    "os.getcwd()"
   ]
  },
  {
   "cell_type": "code",
   "execution_count": 11,
   "metadata": {},
   "outputs": [
    {
     "ename": "ModuleNotFoundError",
     "evalue": "No module named 'vc_inference_server'",
     "output_type": "error",
     "traceback": [
      "\u001b[0;31m---------------------------------------------------------------------------\u001b[0m",
      "\u001b[0;31mModuleNotFoundError\u001b[0m                       Traceback (most recent call last)",
      "Cell \u001b[0;32mIn[11], line 1\u001b[0m\n\u001b[0;32m----> 1\u001b[0m \u001b[38;5;28;01mfrom\u001b[39;00m \u001b[38;5;21;01mvc_inference_server\u001b[39;00m\u001b[38;5;21;01m.\u001b[39;00m\u001b[38;5;21;01mrvc\u001b[39;00m\u001b[38;5;21;01m.\u001b[39;00m\u001b[38;5;21;01minfer\u001b[39;00m \u001b[38;5;28;01mimport\u001b[39;00m infer\n",
      "\u001b[0;31mModuleNotFoundError\u001b[0m: No module named 'vc_inference_server'"
     ]
    }
   ],
   "source": [
    "from vc_inference_server.rvc.infer import infer\n"
   ]
  },
  {
   "cell_type": "code",
   "execution_count": 4,
   "metadata": {},
   "outputs": [
    {
     "name": "stderr",
     "output_type": "stream",
     "text": [
      "Traceback (most recent call last):\n",
      "  File \"/home/lee/workplace/AI_Music_Tools/vc_inference_server/rvc/infer/infer.py\", line 8, in <module>\n",
      "    from rvc.configs.config import Config\n",
      "ModuleNotFoundError: No module named 'rvc'\n"
     ]
    },
    {
     "data": {
      "text/plain": [
       "('File /home/lee/Downloads/frankOcean_selfControl.wav inferred successfully.',\n",
       " '/home/lee/Downloads/output.wav')"
      ]
     },
     "execution_count": 4,
     "metadata": {},
     "output_type": "execute_result"
    }
   ],
   "source": [
    "\n",
    "pth_file = '/home/lee/Downloads/white_175e.pth'\n",
    "index_file = '/home/lee/Downloads/trained_IVF681_Flat_nprobe_1_v2.index'\n",
    "\n",
    "input_path = \"/home/lee/Downloads/frankOcean_selfControl.wav\" #@param {type:\"string\"}\n",
    "output_path = \"/home/lee/Downloads/output.wav\"\n",
    "f0method = \"rmvpe\" #@param [\"pm\", \"dio\", \"crepe\", \"crepe-tiny\", \"harvest\", \"rmvpe\"] {allow-input: false}\n",
    "f0up_key = 0 #@param {type:\"slider\", min:-24, max:24, step:0}\n",
    "filter_radius = 0 #@param {type:\"slider\", min:0, max:10, step:0}\n",
    "index_rate = 0.0 #@param {type:\"slider\", min:0.0, max:1.0, step:0.1}\n",
    "hop_length = 128 # @param {type:\"slider\", min:1, max:512, step:0}\n",
    "split_audio = False #@param{type:\"boolean\"}\n",
    "\n",
    "\n",
    "run_infer_script(f0up_key,\n",
    "                 filter_radius,\n",
    "                 index_rate,\n",
    "                 hop_length,\n",
    "                 f0method,\n",
    "                 input_path,\n",
    "                 output_path,\n",
    "                 pth_file,\n",
    "                 index_file,\n",
    "                 split_audio)"
   ]
  },
  {
   "cell_type": "code",
   "execution_count": 21,
   "metadata": {},
   "outputs": [],
   "source": [
    "import glob\n",
    "g_path_pattern = os.path.join(logs_path, '123', '*.pth')"
   ]
  },
  {
   "cell_type": "code",
   "execution_count": 24,
   "metadata": {},
   "outputs": [],
   "source": [
    "g_files = glob.glob(g_path_pattern)\n",
    "g_path = g_files[0]\n",
    "d_path = g_files[1]"
   ]
  },
  {
   "cell_type": "code",
   "execution_count": 25,
   "metadata": {},
   "outputs": [
    {
     "name": "stdout",
     "output_type": "stream",
     "text": [
      "/home/lee/workplace/separation_server/rvc_training_server/logs/123/G_2333333.pth\n",
      "/home/lee/workplace/separation_server/rvc_training_server/logs/123/D_2333333.pth\n"
     ]
    }
   ],
   "source": [
    "print(g_path)\n",
    "print(d_path)"
   ]
  },
  {
   "cell_type": "code",
   "execution_count": 29,
   "metadata": {},
   "outputs": [
    {
     "data": {
      "text/plain": [
       "'/home/lee/workplace/separation_server/rvc_training_server/logs/123_5e.pth'"
      ]
     },
     "execution_count": 29,
     "metadata": {},
     "output_type": "execute_result"
    }
   ],
   "source": [
    "pth_path = glob.glob(os.path.join(logs_path, '*e.pth'))[0]\n",
    "pth_path"
   ]
  },
  {
   "cell_type": "code",
   "execution_count": null,
   "metadata": {},
   "outputs": [],
   "source": []
  }
 ],
 "metadata": {
  "kernelspec": {
   "display_name": "ai",
   "language": "python",
   "name": "python3"
  },
  "language_info": {
   "codemirror_mode": {
    "name": "ipython",
    "version": 3
   },
   "file_extension": ".py",
   "mimetype": "text/x-python",
   "name": "python",
   "nbconvert_exporter": "python",
   "pygments_lexer": "ipython3",
   "version": "3.9.17"
  }
 },
 "nbformat": 4,
 "nbformat_minor": 2
}
