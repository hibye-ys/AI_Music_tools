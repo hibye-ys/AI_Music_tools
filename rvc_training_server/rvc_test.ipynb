{
 "cells": [
  {
   "cell_type": "code",
   "execution_count": 1,
   "metadata": {},
   "outputs": [],
   "source": [
    "from main import (\n",
    "    run_infer_script,\n",
    "    run_batch_infer_script,\n",
    "    run_tts_script,\n",
    "    run_preprocess_script,\n",
    "    run_extract_script,\n",
    "    run_train_script,\n",
    "    run_index_script,\n",
    "    run_model_information_script,\n",
    "    run_model_fusion_script,\n",
    "    run_tensorboard_script,\n",
    "    run_download_script,\n",
    ")\n"
   ]
  },
  {
   "cell_type": "code",
   "execution_count": 2,
   "metadata": {},
   "outputs": [],
   "source": [
    "dataset_path = '/home/lee/workplace/datas/LJSpeech-1.1/wavs'\n",
    "logs_path = '/home/lee/workplace/rvc_server/logs'\n",
    "model_name = \"Darwin\" #@param {type:\"string\"}\n",
    "sample_rate = \"48k\" #@param [\"32k\", \"40k\", \"48k\"] {allow-input: false}\n",
    "sampling_rate = '48000'\n",
    "rvc_version = \"v2\" #@param [\"v2\", \"v1\"] {allow-input: false}\n",
    "f0method = \"rmvpe\" #@param [\"pm\", \"dio\", \"crepe\", \"crepe-tiny\", \"harvest\", \"rmvpe\"] {allow-input: false}\n",
    "hop_length = 128 #@param {type:\"slider\", min:1, max:512, step:0}\n",
    "sr = int(sample_rate.rstrip('k'))*1000\n",
    "save_every_epoch = 10 #@param {type:\"slider\", min:1, max:100, step:0}\n",
    "save_only_latest = False #@param{type:\"boolean\"}\n",
    "save_every_weights = False #@param{type:\"boolean\"}\n",
    "total_epoch = 2 #@param {type:\"slider\", min:1, max:10000, step:0}\n",
    "batch_size = 15 #@param {type:\"slider\", min:1, max:25, step:0}\n",
    "gpu = 0 # @param {type:\"number\"}\n",
    "pitch_guidance = True #@param{type:\"boolean\"}\n",
    "pretrained = False #@param{type:\"boolean\"}\n",
    "custom_pretrained = False #@param{type:\"boolean\"}\n",
    "#g_pretrained_path = f'/home/lee/workplace/rvc_server/logs/{model_name}' # @param {type:\"string\"}\n",
    "#d_pretrained_path = f'/home/lee/workplace/rvc_server/logs/{model_name}'\n"
   ]
  },
  {
   "cell_type": "code",
   "execution_count": 14,
   "metadata": {},
   "outputs": [
    {
     "name": "stdout",
     "output_type": "stream",
     "text": [
      "Starting preprocessing...\n",
      "Preprocessing completed!\n"
     ]
    },
    {
     "data": {
      "text/plain": [
       "'Model Darwin preprocessed successfully.'"
      ]
     },
     "execution_count": 14,
     "metadata": {},
     "output_type": "execute_result"
    }
   ],
   "source": [
    "run_preprocess_script(model_name, dataset_path, sr)"
   ]
  },
  {
   "cell_type": "code",
   "execution_count": null,
   "metadata": {},
   "outputs": [],
   "source": [
    "run_extract_script(model_name, rvc_version, f0method, hop_length, sampling_rate=sr)"
   ]
  },
  {
   "cell_type": "code",
   "execution_count": null,
   "metadata": {},
   "outputs": [],
   "source": [
    "run_train_script(model_name,\n",
    "                rvc_version,\n",
    "                save_every_epoch,\n",
    "                save_only_latest,\n",
    "                save_every_weights,\n",
    "                total_epoch,\n",
    "                sampling_rate,\n",
    "                batch_size,\n",
    "                gpu,\n",
    "                pitch_guidance,\n",
    "                pretrained,\n",
    "                custom_pretrained,\n",
    "                g_pretrained_path=None,\n",
    "                d_pretrained_path=None)"
   ]
  },
  {
   "cell_type": "code",
   "execution_count": 10,
   "metadata": {},
   "outputs": [
    {
     "name": "stdout",
     "output_type": "stream",
     "text": [
      "model_path: /home/lee/workplace/rvc_server/logs/Darwin_2e.pth\n",
      "<All keys matched successfully>\n",
      "dddddddddddddddddd\n",
      "file: Get_Lucky.wav\n"
     ]
    },
    {
     "name": "stderr",
     "output_type": "stream",
     "text": [
      "2024-02-08 13:12:07 | INFO | fairseq.tasks.hubert_pretraining | current directory is /home/lee/workplace/rvc_server\n",
      "2024-02-08 13:12:07 | INFO | fairseq.tasks.hubert_pretraining | HubertPretrainingTask Config {'_name': 'hubert_pretraining', 'data': 'metadata', 'fine_tuning': False, 'labels': ['km'], 'label_dir': 'label', 'label_rate': 50.0, 'sample_rate': 16000, 'normalize': False, 'enable_padding': False, 'max_keep_size': None, 'max_sample_size': 250000, 'min_sample_size': 32000, 'single_target': False, 'random_crop': True, 'pad_audio': False}\n",
      "2024-02-08 13:12:07 | INFO | fairseq.models.hubert.hubert | HubertModel Config: {'_name': 'hubert', 'label_rate': 50.0, 'extractor_mode': default, 'encoder_layers': 12, 'encoder_embed_dim': 768, 'encoder_ffn_embed_dim': 3072, 'encoder_attention_heads': 12, 'activation_fn': gelu, 'layer_type': transformer, 'dropout': 0.1, 'attention_dropout': 0.1, 'activation_dropout': 0.0, 'encoder_layerdrop': 0.05, 'dropout_input': 0.1, 'dropout_features': 0.1, 'final_dim': 256, 'untie_final_proj': True, 'layer_norm_first': False, 'conv_feature_layers': '[(512,10,5)] + [(512,3,2)] * 4 + [(512,2,2)] * 2', 'conv_bias': False, 'logit_temp': 0.1, 'target_glu': False, 'feature_grad_mult': 0.1, 'mask_length': 10, 'mask_prob': 0.8, 'mask_selection': static, 'mask_other': 0.0, 'no_mask_overlap': False, 'mask_min_space': 1, 'mask_channel_length': 10, 'mask_channel_prob': 0.0, 'mask_channel_selection': static, 'mask_channel_other': 0.0, 'no_mask_channel_overlap': False, 'mask_channel_min_space': 1, 'conv_pos': 128, 'conv_pos_groups': 16, 'latent_temp': [2.0, 0.5, 0.999995], 'skip_masked': False, 'skip_nomask': False, 'checkpoint_activations': False, 'required_seq_len_multiple': 2, 'depthwise_conv_kernel_size': 31, 'attn_type': '', 'pos_enc_type': 'abs', 'fp16': False}\n"
     ]
    },
    {
     "name": "stdout",
     "output_type": "stream",
     "text": [
      "Segment 0 created!\n",
      "Total segments created: 1\n",
      "Split all chunks for /home/lee/workplace/rvc_server/Get_Lucky.wav successfully!\n",
      "file: chunk0.wav\n",
      "Failed to load audio: ffmpeg error (see stderr output for detail)\n",
      "cannot unpack non-iterable NoneType object\n",
      "Conversion completed. Output file: '/home/lee/workplace/rvc_server/output.wav'\n"
     ]
    },
    {
     "data": {
      "text/plain": [
       "('File /home/lee/workplace/rvc_server/Get_Lucky.wav inferred successfully.',\n",
       " '/home/lee/workplace/rvc_server/output.wav')"
      ]
     },
     "execution_count": 10,
     "metadata": {},
     "output_type": "execute_result"
    }
   ],
   "source": [
    "\n",
    "pth_file = '/home/lee/workplace/rvc_server/logs/Darwin_2e.pth'\n",
    "index_file = '/home/lee/workplace/rvc_server/logs/Darwin/trained_IVF256_Flat_nprobe_1_v2.index'\n",
    "\n",
    "input_path = \"/home/lee/workplace/rvc_server/Get_Lucky.wav\" #@param {type:\"string\"}\n",
    "output_path = \"/home/lee/workplace/rvc_server/output.wav\"\n",
    "f0method = \"rmvpe\" #@param [\"pm\", \"dio\", \"crepe\", \"crepe-tiny\", \"harvest\", \"rmvpe\"] {allow-input: false}\n",
    "f0up_key = 0 #@param {type:\"slider\", min:-24, max:24, step:0}\n",
    "filter_radius = 0 #@param {type:\"slider\", min:0, max:10, step:0}\n",
    "index_rate = 0.0 #@param {type:\"slider\", min:0.0, max:1.0, step:0.1}\n",
    "#hop_length = 1 # @param {type:\"slider\", min:1, max:512, step:0}\n",
    "split_audio = False #@param{type:\"boolean\"}\n",
    "\n",
    "\n",
    "run_infer_script(f0up_key,\n",
    "                 filter_radius,\n",
    "                 index_rate,\n",
    "                 hop_length,\n",
    "                 f0method,\n",
    "                 input_path,\n",
    "                 output_path,\n",
    "                 pth_file,\n",
    "                 index_file,\n",
    "                 split_audio)"
   ]
  },
  {
   "cell_type": "code",
   "execution_count": null,
   "metadata": {},
   "outputs": [],
   "source": []
  }
 ],
 "metadata": {
  "kernelspec": {
   "display_name": "ai",
   "language": "python",
   "name": "python3"
  },
  "language_info": {
   "codemirror_mode": {
    "name": "ipython",
    "version": 3
   },
   "file_extension": ".py",
   "mimetype": "text/x-python",
   "name": "python",
   "nbconvert_exporter": "python",
   "pygments_lexer": "ipython3",
   "version": "3.9.17"
  }
 },
 "nbformat": 4,
 "nbformat_minor": 2
}
